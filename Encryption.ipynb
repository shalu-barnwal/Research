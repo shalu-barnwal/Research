{
  "nbformat": 4,
  "nbformat_minor": 0,
  "metadata": {
    "colab": {
      "name": "Encryption.ipynb",
      "provenance": [],
      "collapsed_sections": [],
      "include_colab_link": true
    },
    "kernelspec": {
      "display_name": "Python 3",
      "name": "python3"
    },
    "language_info": {
      "name": "python"
    }
  },
  "cells": [
    {
      "cell_type": "markdown",
      "metadata": {
        "id": "view-in-github",
        "colab_type": "text"
      },
      "source": [
        "<a href=\"https://colab.research.google.com/github/shaluKumari822/dnaCryptography/blob/main/Encryption.ipynb\" target=\"_parent\"><img src=\"https://colab.research.google.com/assets/colab-badge.svg\" alt=\"Open In Colab\"/></a>"
      ]
    },
    {
      "cell_type": "markdown",
      "metadata": {
        "id": "Hdh50g-95DDm"
      },
      "source": [
        "# Slide : [DNA Cryptography]( https://docs.google.com/presentation/d/1319eyOmAvIQanuhbbkTzjXUEECZyw2Ibb5edCSKugfI/edit?usp=sharing)\n",
        "\n"
      ]
    },
    {
      "cell_type": "code",
      "metadata": {
        "id": "0NvVEl6u6sG4",
        "colab": {
          "base_uri": "https://localhost:8080/"
        },
        "outputId": "4f491c63-2603-4489-ca18-b2f4f7182690"
      },
      "source": [
        "# linking the CSVs file with drive\n",
        "from google.colab import \n",
        "drive.mount('/content/drive')\n",
        "import pandas as pd\n",
        "import numpy as np\n"
      ],
      "execution_count": null,
      "outputs": [
        {
          "output_type": "stream",
          "text": [
            "Mounted at /content/drive\n"
          ],
          "name": "stdout"
        }
      ]
    },
    {
      "cell_type": "markdown",
      "metadata": {
        "id": "5c6Cbcq65Bkp"
      },
      "source": [
        ""
      ]
    },
    {
      "cell_type": "code",
      "metadata": {
        "id": "S5r0ctUhFS7R",
        "colab": {
          "base_uri": "https://localhost:8080/"
        },
        "outputId": "970f6144-80af-49b4-bd8d-9793972b9db1"
      },
      "source": [
        "# linking the myTable.csv file with drive and putting into dictionary myTable and protein sequence as key and Symbol as value\n",
        "df = pd.read_csv('/content/drive/MyDrive/research/myTable.csv')\n",
        "df\n",
        "myTable = dict([(a,[i]) for a,i in zip(df.protein_sequence,df.Symbol)])\n",
        "print(myTable)"
      ],
      "execution_count": null,
      "outputs": [
        {
          "output_type": "stream",
          "text": [
            "{'GCT': ['1'], 'GCC': ['2'], 'GCA': ['3'], 'GCG': ['4'], 'TAA': ['5'], 'TAG': ['6'], 'TGT': ['7'], 'TGC': ['8'], 'GAT': ['9'], 'GAC': ['10'], 'GAA': ['11'], 'GAG': ['12'], 'TTT': ['13'], 'TTC': ['14'], 'GGT': ['15'], 'GGC': ['16'], 'GGA': ['17'], 'GGG': ['18'], 'CAT': ['19'], 'CAC': ['20'], 'ATT': ['21'], 'ATC': ['22'], 'ATA': ['23'], 'TGA': ['24'], 'AAA': ['25'], 'AAG': ['26'], 'CTT': ['27'], 'CTC': ['28'], 'CTA': ['29'], 'CTG': ['30'], 'ATG': ['31'], 'AAT': ['32'], 'AAC': ['33'], 'TTA': ['34'], 'TTG': ['35'], 'CCT': ['36'], 'CCC': ['37'], 'CCA': ['38'], 'CCG': ['39'], 'CAA': ['40'], 'CAG': ['41'], 'CGT': ['42'], 'CGC': ['43'], 'CGA': ['44'], 'CGG': ['45'], 'TCT': ['46'], 'TCC': ['47'], 'TCA': ['48'], 'TCG': ['49'], 'ACT': ['50'], 'ACC': ['51'], 'ACA': ['52'], 'ACG': ['53'], 'AGA': ['54'], 'AGG': ['55'], 'GTT': ['56'], 'GTC': ['57'], 'GTA': ['58'], 'GTG': ['59'], 'TGG': ['60'], 'AGT': ['61?'], 'AGC': ['62'], 'TAT': ['63'], 'TAC': ['64']}\n"
          ],
          "name": "stdout"
        }
      ]
    },
    {
      "cell_type": "code",
      "metadata": {
        "id": "U8TecFfYfsot",
        "colab": {
          "base_uri": "https://localhost:8080/"
        },
        "outputId": "5bd2fcc9-6cc7-44ca-9c6b-d43adc6a9850"
      },
      "source": [
        "# linking the dnaSequence.csv file with drive and putting into dictionary myTable and protein sequence as key and Symbol as value\n",
        "df1 = pd.read_csv('/content/drive/MyDrive/research/dnaSequence.csv')\n",
        "df1\n",
        "d= dict([(i,[a]) for i, a in zip(df1.Index, df1.dna_Sequence)])\n",
        "print(d)\n"
      ],
      "execution_count": null,
      "outputs": [
        {
          "output_type": "stream",
          "text": [
            "{'A': ['TAAT'], 'B': ['TAAC'], 'C': ['TAAG'], 'D': ['TATA'], 'E': ['TATT'], 'F': ['TATC'], 'G': ['TATG'], 'H': ['TACA'], 'I': ['TACT'], 'J': ['TACC'], 'K': ['TACG'], 'L': ['TAGA'], 'M': ['TAGT'], 'N': ['TAGC'], 'O': ['TAGG'], 'P': ['TTAA'], 'Q': ['TTAT'], 'R': ['TTAC'], 'S': ['TTAG'], 'T': ['TTTA'], 'U': ['TTTT'], 'V': ['TTTC'], 'W': ['TTTG'], 'X': ['TTCA'], 'Y': ['TTCT'], 'Z': ['TTCC'], '?': ['AGGG'], '%': ['ACTT'], '&': ['ACTC'], '(': ['ACCA'], ')': ['ACCT'], ',': ['ACGA'], '.': ['ACGC'], 'a': ['TCAT'], 'b': ['TCAC'], 'c': ['TCAG'], 'd': ['TCTA'], 'e': ['TCTT'], 'f': ['TCTC'], 'g': ['TCTG'], 'h': ['TCCA'], 'i': ['TCCT'], 'j': ['TCCC'], 'k': ['TCCG'], 'l': ['TCGA'], 'm': ['TCGT'], 'n': ['TCGC'], 'o': ['TCGG'], 'p': ['TGAA'], 'q': ['TGAT'], 'r': ['TGAC'], 's': ['TGAG'], 't': ['TGTA'], 'u': ['TGTT'], 'v': ['TGTC'], 'w': ['TGTG'], 'x': ['TGCA'], 'y': ['TGCT'], 'z': ['TGCC'], '0': ['AGAA'], '1': ['AGAT'], '2': ['AGAC'], '3': ['AGAG'], '4': ['AGTA'], '5': ['AGTT'], '6': ['AGTC'], '7': ['AGTG'], '8': ['AGCA'], '9': ['AGCT']}\n"
          ],
          "name": "stdout"
        }
      ]
    },
    {
      "cell_type": "code",
      "metadata": {
        "id": "9A_mKgE6h0cJ",
        "colab": {
          "base_uri": "https://localhost:8080/"
        },
        "outputId": "14b662e7-a8eb-4220-c66c-b442ba56458c"
      },
      "source": [
        "#it will gies the information about myTable.csv file\n",
        "df.info()"
      ],
      "execution_count": null,
      "outputs": [
        {
          "output_type": "stream",
          "text": [
            "<class 'pandas.core.frame.DataFrame'>\n",
            "RangeIndex: 64 entries, 0 to 63\n",
            "Data columns (total 2 columns):\n",
            " #   Column            Non-Null Count  Dtype \n",
            "---  ------            --------------  ----- \n",
            " 0   Symbol            64 non-null     object\n",
            " 1   protein_sequence  64 non-null     object\n",
            "dtypes: object(2)\n",
            "memory usage: 1.1+ KB\n"
          ],
          "name": "stdout"
        }
      ]
    },
    {
      "cell_type": "code",
      "metadata": {
        "id": "1XjwJVKNh-NC",
        "colab": {
          "base_uri": "https://localhost:8080/"
        },
        "outputId": "ce6558d3-a55e-40d2-af8d-9899f1faaa04"
      },
      "source": [
        "#it will gies the information about myTable.csv file\n",
        "df1.info()\n"
      ],
      "execution_count": null,
      "outputs": [
        {
          "output_type": "stream",
          "text": [
            "<class 'pandas.core.frame.DataFrame'>\n",
            "RangeIndex: 71 entries, 0 to 70\n",
            "Data columns (total 2 columns):\n",
            " #   Column        Non-Null Count  Dtype \n",
            "---  ------        --------------  ----- \n",
            " 0   Index         71 non-null     object\n",
            " 1   dna_Sequence  71 non-null     object\n",
            "dtypes: object(2)\n",
            "memory usage: 1.2+ KB\n"
          ],
          "name": "stdout"
        }
      ]
    },
    {
      "cell_type": "markdown",
      "metadata": {
        "id": "K6vTvXIPFUfS"
      },
      "source": [
        ""
      ]
    },
    {
      "cell_type": "code",
      "metadata": {
        "id": "AhvM2Tp_hA-K",
        "colab": {
          "base_uri": "https://localhost:8080/"
        },
        "outputId": "a7f554b0-9637-46c1-f196-92fca9cc8bd3"
      },
      "source": [
        "# Driver code\n",
        "plain_text = input('Enter the Plain text : ')\n",
        "\n",
        "# To store the indexes of space \n",
        "spacesInText = []\n",
        "for i, char in enumerate(plain_text):\n",
        "  if char == \" \":\n",
        "    spacesInText.append(i)\n",
        "\n",
        "key = {}\n",
        "key['length'] = len(plain_text)\n",
        "key['spacePositions'] = spacesInText\n"
      ],
      "execution_count": null,
      "outputs": [
        {
          "name": "stdout",
          "output_type": "stream",
          "text": [
            "Enter the Plain text : xsjdhxb xhasahbxj hj\n"
          ]
        },
        {
          "output_type": "execute_result",
          "data": {
            "text/plain": [
              "{'length': 20, 'spacePositions': [7, 17]}"
            ]
          },
          "metadata": {},
          "execution_count": 6
        }
      ]
    },
    {
      "cell_type": "code",
      "metadata": {
        "id": "1pd1v1RcN7Ln"
      },
      "source": [
        "plain_text = plain_text.replace(\" \", \"\") #removing spaces from input text\n",
        "\n",
        "textInput = [char for char in plain_text] # creating list of characters in input text\n",
        "print(textInput)\n",
        "\n",
        "# getting dna sequence\n",
        "dnaSequence = [ d[char] for char in textInput] \n",
        "print(dnaSequence)"
      ],
      "execution_count": null,
      "outputs": []
    },
    {
      "cell_type": "code",
      "metadata": {
        "colab": {
          "base_uri": "https://localhost:8080/"
        },
        "id": "4k_PBd-CIzh5",
        "outputId": "f41e8858-e8a9-4dda-c701-4b1199a30d48"
      },
      "source": [
        "updated_list = []\n",
        "# repalceing c-g, a-t and vice versa\n",
        "for obj in dnaSequence:\n",
        "    for string in obj:\n",
        "        updatedStr = []\n",
        "        for ch in string: # sting = TCGT\n",
        "          if ch == 'C' :\n",
        "            ch = 'G'\n",
        "          elif ch == 'G' :\n",
        "            ch = 'C'\n",
        "          elif ch == 'T' :\n",
        "            ch = 'A'\n",
        "          elif ch == 'A' :\n",
        "            ch = 'T'\n",
        "          updatedStr.append(ch) \n",
        "          #['a', 'b','c','d']\n",
        "    updated_list.append([\"\".join(updatedStr)])\n",
        "\n",
        "print(\"updated_list: \", updated_list)\n",
        "print(\"\\n\")\n"
      ],
      "execution_count": null,
      "outputs": [
        {
          "output_type": "stream",
          "text": [
            "updated_list:  [['AGGT'], ['AGAA'], ['ACGA'], ['AGGT'], ['AGGA']]\n",
            "\n",
            "\n"
          ],
          "name": "stdout"
        }
      ]
    },
    {
      "cell_type": "code",
      "metadata": {
        "id": "QJgnfZrYFvU3",
        "colab": {
          "base_uri": "https://localhost:8080/"
        },
        "outputId": "4bb8d6ae-d686-4ba0-d1b5-ce25402062fb"
      },
      "source": [
        "#Swapper function is used here to divide the sequence into two halves and interchange the first half with second one to create a new sequence-\n",
        "def swapper(lst):\n",
        "    mid = int(len(lst)/2)\n",
        "    if(len(lst) % 2 == 0):\n",
        "        for index in range(mid):\n",
        "            temp = lst[index]\n",
        "            lst[index] = lst[mid + index]\n",
        "            lst[mid + index] = temp\n",
        "    else:   \n",
        "        for index in range(mid):\n",
        "            temp = lst[index]\n",
        "            lst[index] = lst[mid + index + 1]\n",
        "            lst[mid + index + 1] = temp\n",
        "    print(lst)\n",
        "    # update list after swapping\n",
        "    updated_list = lst\n",
        "\n",
        "print(\" After Swapping : \")\n",
        "swapper(updated_list)"
      ],
      "execution_count": null,
      "outputs": [
        {
          "output_type": "stream",
          "text": [
            " After Swapping\n",
            "[['AGGT'], ['AGAA'], ['ACGA'], ['AGGT'], ['AGGA']]\n"
          ],
          "name": "stdout"
        }
      ]
    },
    {
      "cell_type": "code",
      "metadata": {
        "id": "fCaADYqRK3ks",
        "colab": {
          "base_uri": "https://localhost:8080/"
        },
        "outputId": "1d08d226-5ae5-4bf0-838f-f3c51ca6710f"
      },
      "source": [
        "charList = []\n",
        "\n",
        "for obj in updated_list:\n",
        "  # charList.append(list(obj[0]))\n",
        "  charList += list(obj[0]) \n",
        "\n",
        "print(\"Dividing in Single Character\")\n",
        "print(charList)"
      ],
      "execution_count": null,
      "outputs": [
        {
          "output_type": "stream",
          "text": [
            "Dividing in Single Character\n",
            "['A', 'G', 'G', 'T', 'A', 'G', 'A', 'A', 'A', 'C', 'G', 'A', 'A', 'G', 'G', 'T', 'A', 'G', 'G', 'A']\n"
          ],
          "name": "stdout"
        }
      ]
    },
    {
      "cell_type": "code",
      "metadata": {
        "colab": {
          "base_uri": "https://localhost:8080/"
        },
        "id": "37R-zpiDFfSz",
        "outputId": "9f693634-ddcb-4b4a-c45c-6a889b2255aa"
      },
      "source": [
        "dna3Char = []\n",
        "#storing the value in reverse order\n",
        "strCharList = \"\".join(charList)\n",
        "# getting length of string\n",
        "strLen = len(strCharList);\n",
        "# ‘AC’ or ‘A’(if required) is added to make the string dividible by 3\n",
        "if(strLen % 3 != 0):\n",
        "  if (strLen % 3 != 1):\n",
        "    strCharList = 'A' + strCharList\n",
        "  elif (strLen % 3 != 2):\n",
        "    strCharList = 'AC' + strCharList\n",
        "\n",
        "#Stores the array of string  \n",
        "equalStr = [];    \n",
        "for i in range(0, strLen, 3):  \n",
        "    #Dividing string in n equal part using substring()  \n",
        "    part = strCharList[ i : i+3];  \n",
        "    dna3Char.append(part);  \n",
        "\n",
        "print(\"DNA sequence in 3-characters format: \", dna3Char);  \n",
        "\n",
        "# getting dna sequence\n",
        "cipher = [ myTable[char] for char in dna3Char] \n",
        "print(\"\".join(cipher))"
      ],
      "execution_count": null,
      "outputs": [
        {
          "output_type": "stream",
          "text": [
            "DNA sequence in 3-characters format:  ['AAG', 'GTA', 'GAA', 'ACG', 'AAG', 'GTA', 'GGA']\n",
            "[['26'], ['58'], ['11'], ['53'], ['26'], ['58'], ['17']]\n"
          ],
          "name": "stdout"
        }
      ]
    },
    {
      "cell_type": "markdown",
      "metadata": {
        "id": "GcRSmpfwOFx-"
      },
      "source": [
        "# Decryption"
      ]
    },
    {
      "cell_type": "code",
      "metadata": {
        "id": "7uHEe9aNOKdw"
      },
      "source": [
        ""
      ],
      "execution_count": null,
      "outputs": []
    }
  ]
}